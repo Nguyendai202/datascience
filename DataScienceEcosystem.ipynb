{
 "cells": [
  {
   "cell_type": "markdown",
   "id": "11681981-6416-41cb-a6fe-7099f6d98879",
   "metadata": {
    "tags": []
   },
   "source": [
    "# Data Science Tools and Ecosystem"
   ]
  },
  {
   "cell_type": "markdown",
   "id": "cbf01641-bdaa-4699-baf6-7bb0d95e1494",
   "metadata": {},
   "source": [
    "In this notebook, Data Science Tools and Ecosystem are summarized.\n"
   ]
  },
  {
   "cell_type": "markdown",
   "id": "6a4aeae5-4f85-42f9-8c10-ed27a15fba4b",
   "metadata": {},
   "source": [
    "**Some of the popular languages that Data Scientists use are:**\n",
    "\n",
    "1. R.\n",
    "2. python.    \n",
    "3. SQL.\n",
    "\n",
    "    "
   ]
  },
  {
   "cell_type": "markdown",
   "id": "ad418364-1ee8-4acc-910a-ec6bc3e4fc24",
   "metadata": {},
   "source": [
    "**Some of the commonly used libraries used by Data Scientists include:**\n",
    " \n",
    " 1. TensorFlow. \n",
    " 2. SciPy. \n",
    " 3. NumPy. \n",
    " 4. Pandas. \n",
    " 5. Pytorch"
   ]
  },
  {
   "cell_type": "markdown",
   "id": "b6b02333-1bd0-4576-a9e5-27e11502e218",
   "metadata": {
    "tags": []
   },
   "source": [
    "**Data Science Tools**:\n",
    "|Data Science Tools|\n",
    "|-|\n",
    "|Jupyter Notebook|\n",
    "|RStudio|\n",
    "|Apache Spark|\n"
   ]
  },
  {
   "cell_type": "markdown",
   "id": "b4377a63-ac75-42df-80de-c1b77e0c1947",
   "metadata": {},
   "source": [
    "### Below are a few examples of evaluating arithmetic expressions in Python"
   ]
  },
  {
   "cell_type": "code",
   "execution_count": 5,
   "id": "303dd188-8fbc-4689-9bd4-32a13a1f13f8",
   "metadata": {
    "tags": []
   },
   "outputs": [
    {
     "name": "stdout",
     "output_type": "stream",
     "text": [
      "17\n",
      "True\n"
     ]
    }
   ],
   "source": [
    "# This a simple arithmetic expression to mutiply then add integers\n",
    "eval = (3*4)+5\n",
    "print(eval)\n",
    "print(eval==17)"
   ]
  },
  {
   "cell_type": "code",
   "execution_count": 4,
   "id": "4510c109-abe5-4ca6-970f-075777346ff8",
   "metadata": {
    "tags": []
   },
   "outputs": [
    {
     "name": "stdout",
     "output_type": "stream",
     "text": [
      "33.333333333333336\n"
     ]
    }
   ],
   "source": [
    "# This will convert 200 minutes to hours by diving by 60\n",
    "print(200 / 6)"
   ]
  },
  {
   "cell_type": "markdown",
   "id": "46d91da5-68be-4d22-b5da-8e66fff97437",
   "metadata": {},
   "source": [
    "**Objectives:**\n",
    "List popular languages for Data Science.\n",
    "- R \n",
    "- Python\n",
    "- SQL"
   ]
  },
  {
   "cell_type": "markdown",
   "id": "bc2edcf3-8ce3-4e6e-9868-88a977ffce54",
   "metadata": {},
   "source": [
    "## Author \n",
    "name : Dai, Nguyen"
   ]
  },
  {
   "cell_type": "code",
   "execution_count": null,
   "id": "0a1caeec-ac9d-4341-b367-5f0a5f065a3e",
   "metadata": {},
   "outputs": [],
   "source": []
  }
 ],
 "metadata": {
  "kernelspec": {
   "display_name": "Python",
   "language": "python",
   "name": "conda-env-python-py"
  },
  "language_info": {
   "codemirror_mode": {
    "name": "ipython",
    "version": 3
   },
   "file_extension": ".py",
   "mimetype": "text/x-python",
   "name": "python",
   "nbconvert_exporter": "python",
   "pygments_lexer": "ipython3",
   "version": "3.7.12"
  }
 },
 "nbformat": 4,
 "nbformat_minor": 5
}
